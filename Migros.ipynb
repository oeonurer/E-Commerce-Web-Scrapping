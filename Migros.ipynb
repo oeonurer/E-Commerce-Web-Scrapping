{
 "cells": [
  {
   "cell_type": "code",
   "execution_count": 24,
   "id": "51d6e84e",
   "metadata": {},
   "outputs": [
    {
     "name": "stderr",
     "output_type": "stream",
     "text": [
      "C:\\Users\\ONUR\\AppData\\Local\\Temp/ipykernel_23144/1107734083.py:10: DeprecationWarning: executable_path has been deprecated, please pass in a Service object\n",
      "  driver = webdriver.Chrome(executable_path=\"C:/Users/ONUR/Desktop/chromedriver.exe\")\n",
      "C:\\Users\\ONUR\\AppData\\Local\\Temp/ipykernel_23144/1107734083.py:17: DeprecationWarning: find_element_by_* commands are deprecated. Please use find_element() instead\n",
      "  driver.find_element_by_xpath('//*[@id=\"close-modal\"]/button/span[2]')\\\n",
      "C:\\Users\\ONUR\\AppData\\Local\\Temp/ipykernel_23144/1107734083.py:22: DeprecationWarning: find_element_by_* commands are deprecated. Please use find_element() instead\n",
      "  driver.find_element_by_xpath('//*[@id=\"product-search-combobox--trigger\"]')\\\n",
      "C:\\Users\\ONUR\\AppData\\Local\\Temp/ipykernel_23144/1107734083.py:24: DeprecationWarning: find_element_by_* commands are deprecated. Please use find_element() instead\n",
      "  driver.find_element_by_xpath('//*[@id=\"header-wrapper\"]/div[2]/fe-product-search-combobox/div/div')\\\n",
      "C:\\Users\\ONUR\\AppData\\Local\\Temp/ipykernel_23144/1107734083.py:29: DeprecationWarning: find_elements_by_* commands are deprecated. Please use find_elements() instead\n",
      "  item_titles = driver.find_elements_by_xpath('//mat-card/div/a')\n",
      "C:\\Users\\ONUR\\AppData\\Local\\Temp/ipykernel_23144/1107734083.py:30: DeprecationWarning: find_elements_by_* commands are deprecated. Please use find_elements() instead\n",
      "  item_prices = driver.find_elements_by_xpath('/html/body/sm-root/div/main/sm-product/article/sm-list/div[2]/div[4]/div[2]/div[4]/sm-list-page-item[*]/mat-card/div[3]/fe-product-price/div/div[2]/span')\n"
     ]
    },
    {
     "name": "stdout",
     "output_type": "stream",
     "text": [
      "['Nescafe Gold Ekonomik Paket 150 G', 'Nescafe Gold Ekonomik Paket 180 G', 'Nescafe Gold Ekonomik Paket 200 G', 'Nescafe Gold Ekonomik Paket 100 G', 'Nescafe Gold 50 G Ekonomik Paket', 'Nescafe Gold Espresso Ekonomik Paket 80 G', 'Nescafe Gold Crema Ekonomik Paket 80 G', 'Nescafe Gold Alta Rica Ekonomik Paket 70 G', 'Nescafe Gold Cap Colombia Ekonomik Paket 70 G']\n",
      "['69,95 TL', '69,95 TL', '83,75 TL', '41,95 TL', '32,75 TL', '41,95 TL', '41,95 TL']\n"
     ]
    }
   ],
   "source": [
    "from selenium import webdriver\n",
    "from time import sleep\n",
    "# Data manipulation\n",
    "import pandas as pd\n",
    "# Visualization\n",
    "import matplotlib.pyplot as plt\n",
    "import seaborn as sns\n",
    "\n",
    "\n",
    "driver = webdriver.Chrome(executable_path=\"C:/Users/ONUR/Desktop/chromedriver.exe\")\n",
    "migros_arama = \"nescafe gold ekonomik paket\"\n",
    "\n",
    "driver.get(\"https://www.migros.com.tr/\")\n",
    "sleep(4)\n",
    "\n",
    "#bildirim iptali\n",
    "driver.find_element_by_xpath('//*[@id=\"close-modal\"]/button/span[2]')\\\n",
    "    .click()\n",
    "sleep(2)\n",
    "\n",
    "#arama\n",
    "driver.find_element_by_xpath('//*[@id=\"product-search-combobox--trigger\"]')\\\n",
    "    .send_keys(migros_arama)\n",
    "driver.find_element_by_xpath('//*[@id=\"header-wrapper\"]/div[2]/fe-product-search-combobox/div/div')\\\n",
    "    .click()\n",
    "sleep(3)\n",
    "\n",
    "\n",
    "item_titles = driver.find_elements_by_xpath('//mat-card/div/a')\n",
    "item_prices = driver.find_elements_by_xpath('/html/body/sm-root/div/main/sm-product/article/sm-list/div[2]/div[4]/div[2]/div[4]/sm-list-page-item[*]/mat-card/div[3]/fe-product-price/div/div[2]/span')\n",
    "\n",
    "# Initialize empty lists\n",
    "titles_list = []\n",
    "prices_list = []\n",
    "# Loop over the item_titles and item_prices\n",
    "for title in item_titles:\n",
    "    titles_list.append(title.text)\n",
    "for prices in item_prices:\n",
    "    prices_list.append(prices.text)\n",
    "    \n",
    "print(titles_list)\n",
    "print(prices_list)"
   ]
  },
  {
   "cell_type": "code",
   "execution_count": 34,
   "id": "415b4d4a",
   "metadata": {},
   "outputs": [],
   "source": [
    "dfL = pd.DataFrame(zip(titles_list, prices_list), columns=['Ürün Adı', 'Fiyat'])\n",
    "\n"
   ]
  },
  {
   "cell_type": "code",
   "execution_count": 35,
   "id": "399d3dc7",
   "metadata": {},
   "outputs": [],
   "source": [
    "dfL['Mağaza'] = 'Migros'\n"
   ]
  },
  {
   "cell_type": "code",
   "execution_count": 40,
   "id": "95ec8929",
   "metadata": {},
   "outputs": [],
   "source": [
    "#Migros fiyatlarda virgül kullanıyor ve floata çevirirken virgül kabul etmiyor. bu nedenle fiyatlarda yer alan virgülleri \".\" çeviriyoruz.\n",
    "\n",
    "\n",
    "dfL['Fiyat'] = dfL['Fiyat'].str.replace(',', '.')\n"
   ]
  },
  {
   "cell_type": "code",
   "execution_count": 41,
   "id": "9d66a840",
   "metadata": {},
   "outputs": [],
   "source": [
    "dfL['Fiyat'] = dfL['Fiyat'].str.replace('TL', '').astype(float)\n",
    "\n"
   ]
  },
  {
   "cell_type": "code",
   "execution_count": 42,
   "id": "a7dd6d80",
   "metadata": {},
   "outputs": [
    {
     "name": "stdout",
     "output_type": "stream",
     "text": [
      "                                    Ürün Adı  Fiyat  Mağaza\n",
      "0          Nescafe Gold Ekonomik Paket 150 G  69.95  Migros\n",
      "1          Nescafe Gold Ekonomik Paket 180 G  69.95  Migros\n",
      "2          Nescafe Gold Ekonomik Paket 200 G  83.75  Migros\n",
      "3          Nescafe Gold Ekonomik Paket 100 G  41.95  Migros\n",
      "4           Nescafe Gold 50 G Ekonomik Paket  32.75  Migros\n",
      "5  Nescafe Gold Espresso Ekonomik Paket 80 G  41.95  Migros\n",
      "6     Nescafe Gold Crema Ekonomik Paket 80 G  41.95  Migros\n"
     ]
    }
   ],
   "source": [
    "print(dfL)"
   ]
  },
  {
   "cell_type": "code",
   "execution_count": 44,
   "id": "19a45b56",
   "metadata": {},
   "outputs": [
    {
     "data": {
      "image/png": "[encoded data removed]",
      "text/plain": [
       "<Figure size 432x288 with 1 Axes>"
      ]
     },
     "metadata": {},
     "output_type": "display_data"
    }
   ],
   "source": [
    "# Plot the chart\n",
    "sns.set()\n",
    "_ = sns.boxplot(x='Mağaza', y='Fiyat', data=dfL)\n",
    "_ = plt.title('Nescafe Gold Ekonomik Paket Mağaza Analizi')\n",
    "_ = plt.ylabel('Fiyat (TL)')\n",
    "_ = plt.xlabel('E-commerce Mağaza')\n",
    "# Show the plot\n",
    "plt.show()"
   ]
  },
  {
   "cell_type": "code",
   "execution_count": null,
   "id": "9a976a45",
   "metadata": {},
   "outputs": [],
   "source": []
  }
 ],
 "metadata": {
  "kernelspec": {
   "display_name": "Python 3 (ipykernel)",
   "language": "python",
   "name": "python3"
  },
  "language_info": {
   "codemirror_mode": {
    "name": "ipython",
    "version": 3
   },
   "file_extension": ".py",
   "mimetype": "text/x-python",
   "name": "python",
   "nbconvert_exporter": "python",
   "pygments_lexer": "ipython3",
   "version": "3.9.7"
  }
 },
 "nbformat": 4,
 "nbformat_minor": 5
}
